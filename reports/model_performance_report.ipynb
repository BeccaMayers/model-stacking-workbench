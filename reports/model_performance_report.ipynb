{
 "cells": [
  {
   "cell_type": "code",
   "execution_count": 13,
   "metadata": {
    "collapsed": true
   },
   "outputs": [],
   "source": [
    "import pandas as pd\n",
    "import matplotlib.pyplot as plt\n",
    "import seaborn as sns"
   ]
  },
  {
   "cell_type": "code",
   "execution_count": 14,
   "metadata": {},
   "outputs": [
    {
     "data": {
      "text/html": [
       "<div>\n",
       "<style>\n",
       "    .dataframe thead tr:only-child th {\n",
       "        text-align: right;\n",
       "    }\n",
       "\n",
       "    .dataframe thead th {\n",
       "        text-align: left;\n",
       "    }\n",
       "\n",
       "    .dataframe tbody tr th {\n",
       "        vertical-align: top;\n",
       "    }\n",
       "</style>\n",
       "<table border=\"1\" class=\"dataframe\">\n",
       "  <thead>\n",
       "    <tr style=\"text-align: right;\">\n",
       "      <th></th>\n",
       "      <th>date_time</th>\n",
       "      <th>model_id</th>\n",
       "      <th>feature_set</th>\n",
       "      <th>number_of_rows</th>\n",
       "      <th>number_of_columns</th>\n",
       "      <th>training_time</th>\n",
       "      <th>cv_min_metric</th>\n",
       "      <th>cv_max_metric</th>\n",
       "      <th>cv_avg_metric</th>\n",
       "      <th>public_leaderboard</th>\n",
       "      <th>model_params</th>\n",
       "    </tr>\n",
       "  </thead>\n",
       "  <tbody>\n",
       "    <tr>\n",
       "      <th>0</th>\n",
       "      <td>2018-06-04 21:53:12</td>\n",
       "      <td>L0RF1</td>\n",
       "      <td>L0FS02</td>\n",
       "      <td>114321</td>\n",
       "      <td>112</td>\n",
       "      <td>3.948265</td>\n",
       "      <td>0.639225</td>\n",
       "      <td>0.689859</td>\n",
       "      <td>0.658131</td>\n",
       "      <td>NaN</td>\n",
       "      <td>\"{'n_estimators': 20, 'n_jobs': -1}\"</td>\n",
       "    </tr>\n",
       "    <tr>\n",
       "      <th>1</th>\n",
       "      <td>2018-06-04 21:54:24</td>\n",
       "      <td>L0RF1</td>\n",
       "      <td>L0FS02</td>\n",
       "      <td>114321</td>\n",
       "      <td>112</td>\n",
       "      <td>4.004004</td>\n",
       "      <td>0.642200</td>\n",
       "      <td>0.698744</td>\n",
       "      <td>0.667746</td>\n",
       "      <td>NaN</td>\n",
       "      <td>\"{'n_estimators': 20, 'n_jobs': -1}\"</td>\n",
       "    </tr>\n",
       "    <tr>\n",
       "      <th>2</th>\n",
       "      <td>2018-06-04 21:57:17</td>\n",
       "      <td>L0RF1</td>\n",
       "      <td>L0FS02</td>\n",
       "      <td>114321</td>\n",
       "      <td>112</td>\n",
       "      <td>3.809589</td>\n",
       "      <td>0.651614</td>\n",
       "      <td>0.700795</td>\n",
       "      <td>0.675140</td>\n",
       "      <td>0.64860</td>\n",
       "      <td>\"{'n_estimators': 20, 'n_jobs': -1}\"</td>\n",
       "    </tr>\n",
       "    <tr>\n",
       "      <th>3</th>\n",
       "      <td>2018-06-04 21:59:53</td>\n",
       "      <td>L0NN1</td>\n",
       "      <td>L0FS03</td>\n",
       "      <td>114321</td>\n",
       "      <td>112</td>\n",
       "      <td>65.091429</td>\n",
       "      <td>0.493351</td>\n",
       "      <td>0.506269</td>\n",
       "      <td>0.501369</td>\n",
       "      <td>0.49676</td>\n",
       "      <td>\"{'hidden_layer_sizes': (100,)}\"</td>\n",
       "    </tr>\n",
       "    <tr>\n",
       "      <th>4</th>\n",
       "      <td>2018-06-04 22:10:46</td>\n",
       "      <td>L0RF1</td>\n",
       "      <td>L0FS02</td>\n",
       "      <td>114321</td>\n",
       "      <td>112</td>\n",
       "      <td>3.802842</td>\n",
       "      <td>0.654181</td>\n",
       "      <td>0.674027</td>\n",
       "      <td>0.663727</td>\n",
       "      <td>NaN</td>\n",
       "      <td>\"{'n_estimators': 20, 'n_jobs': -1}\"</td>\n",
       "    </tr>\n",
       "  </tbody>\n",
       "</table>\n",
       "</div>"
      ],
      "text/plain": [
       "             date_time model_id feature_set  number_of_rows  \\\n",
       "0  2018-06-04 21:53:12    L0RF1      L0FS02          114321   \n",
       "1  2018-06-04 21:54:24    L0RF1      L0FS02          114321   \n",
       "2  2018-06-04 21:57:17    L0RF1      L0FS02          114321   \n",
       "3  2018-06-04 21:59:53    L0NN1      L0FS03          114321   \n",
       "4  2018-06-04 22:10:46    L0RF1      L0FS02          114321   \n",
       "\n",
       "   number_of_columns  training_time  cv_min_metric  cv_max_metric  \\\n",
       "0                112       3.948265       0.639225       0.689859   \n",
       "1                112       4.004004       0.642200       0.698744   \n",
       "2                112       3.809589       0.651614       0.700795   \n",
       "3                112      65.091429       0.493351       0.506269   \n",
       "4                112       3.802842       0.654181       0.674027   \n",
       "\n",
       "   cv_avg_metric  public_leaderboard                          model_params  \n",
       "0       0.658131                 NaN  \"{'n_estimators': 20, 'n_jobs': -1}\"  \n",
       "1       0.667746                 NaN  \"{'n_estimators': 20, 'n_jobs': -1}\"  \n",
       "2       0.675140             0.64860  \"{'n_estimators': 20, 'n_jobs': -1}\"  \n",
       "3       0.501369             0.49676      \"{'hidden_layer_sizes': (100,)}\"  \n",
       "4       0.663727                 NaN  \"{'n_estimators': 20, 'n_jobs': -1}\"  "
      ]
     },
     "execution_count": 14,
     "metadata": {},
     "output_type": "execute_result"
    }
   ],
   "source": [
    "df = pd.read_csv('../results/model_performance_data.csv')\n",
    "df.head()"
   ]
  },
  {
   "cell_type": "code",
   "execution_count": 15,
   "metadata": {},
   "outputs": [],
   "source": [
    "df2 = df.model_id.value_counts()"
   ]
  },
  {
   "cell_type": "code",
   "execution_count": 16,
   "metadata": {},
   "outputs": [
    {
     "data": {
      "text/plain": [
       "L0RF1     11\n",
       "L1NN1      5\n",
       "L0NN1      3\n",
       "L0XTC1     2\n",
       "L0RF2      1\n",
       "Name: model_id, dtype: int64"
      ]
     },
     "execution_count": 16,
     "metadata": {},
     "output_type": "execute_result"
    }
   ],
   "source": [
    "df2"
   ]
  },
  {
   "cell_type": "code",
   "execution_count": 17,
   "metadata": {
    "collapsed": true
   },
   "outputs": [],
   "source": [
    "df.dropna(axis=0,inplace=True)"
   ]
  },
  {
   "cell_type": "code",
   "execution_count": 18,
   "metadata": {},
   "outputs": [
    {
     "data": {
      "text/plain": [
       "<matplotlib.axes._subplots.AxesSubplot at 0x10f9431d0>"
      ]
     },
     "execution_count": 18,
     "metadata": {},
     "output_type": "execute_result"
    },
    {
     "data": {
      "image/png": "[encoded data removed]",
      "text/plain": [
       "<matplotlib.figure.Figure at 0x10f92c278>"
      ]
     },
     "metadata": {},
     "output_type": "display_data"
    }
   ],
   "source": [
    "%matplotlib inline\n",
    "sns.regplot(x=df.cv_avg_metric,y=df.public_leaderboard,fit_reg=False)"
   ]
  }
 ],
 "metadata": {
  "kernelspec": {
   "display_name": "Python 3",
   "language": "python",
   "name": "python3"
  },
  "language_info": {
   "codemirror_mode": {
    "name": "ipython",
    "version": 3
   },
   "file_extension": ".py",
   "mimetype": "text/x-python",
   "name": "python",
   "nbconvert_exporter": "python",
   "pygments_lexer": "ipython3",
   "version": "3.6.1"
  }
 },
 "nbformat": 4,
 "nbformat_minor": 2
}
